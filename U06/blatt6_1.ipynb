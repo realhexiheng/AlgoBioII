{
 "cells": [
  {
   "cell_type": "markdown",
   "id": "167b54e1",
   "metadata": {},
   "source": [
    "Exercise 1 (PAMs, Notebook, 10P):"
   ]
  },
  {
   "cell_type": "code",
   "execution_count": 17,
   "id": "ca0a35c5",
   "metadata": {},
   "outputs": [],
   "source": [
    "#!/usr/bin/python\n",
    "import matplotlib.pyplot as plt\n",
    "import numpy as np\n",
    "import random\n",
    "\n",
    "# amino acids\n",
    "aa = ['A', 'C', 'D', 'E', 'F', 'G', 'H', 'I', 'K', 'L', 'M', 'N', 'P', 'Q', 'R', 'S', 'T', 'V', 'W', 'Y']\n",
    "\n",
    "# Observed percent difference\n",
    "observed_diff = [1] + list(range(5, 90, 5))\n",
    "\n",
    "# Evolutionary distance in PAMs\n",
    "evolutionary_dist = [1, 5, 11, 17, 23, 30, 38, 47, 56, 67, 80, 94, 112, 133, 159, 195, 246, 328]\n",
    "\n",
    "\"\"\"\n",
    "@Hamming distance : Defined between two strings of equal length, is the number of \n",
    "positions with mismatching characters.\n",
    "@param: seq1: sequence 1, seq2: sequence 2\n",
    "\"\"\"\n",
    "def Hamming_distance(seq1, seq2):\n",
    "    dist = 0\n",
    "    for (a, b) in zip(seq1, seq2):\n",
    "        if a != b:\n",
    "            dist += 1\n",
    "    return dist\n",
    "\n",
    "\n",
    "\"\"\"\n",
    "@evolutionary distance : dist += diff(seq1[i], seq2[i])\n",
    "@param seq1: sequence 1, seq2: sequence 2\n",
    "\"\"\"\n",
    "def evolutionary_distance(seq1, seq2):\n",
    "    if len(seq1) != len(seq2):\n",
    "        return -1\n",
    "    dist = 0\n",
    "    dist = Hamming_distance(seq1, seq2)\n",
    "    return dist\n",
    "\n",
    "\"\"\"\n",
    "@get sequence : generates a random sequence of length n\n",
    "@param: n: length of sequence\n",
    "\"\"\"\n",
    "def get_sequence(n):\n",
    "    return ''.join(random.choices(aa, k=n))           \n",
    "\n",
    "\"\"\"\n",
    "@mutate sequence : mutates a sequence for the given several times\n",
    "@param: seq: sequence to mutate, r: number of mutations\n",
    "\"\"\"\n",
    "def mutate_sequence(seq, r):\n",
    "    mutated_aa = set(aa)\n",
    "    mut_pos = random.sample(range(len(seq)), r)\n",
    "    mutated_seq = list(seq)\n",
    "    for pos in mut_pos:\n",
    "        curr_base = mutated_seq[pos]\n",
    "        mutated_aa.remove(curr_base)\n",
    "        mutated_seq[pos] = random.choice(list(mutated_aa))\n",
    "        mutated_aa.add(curr_base)\n",
    "    return ''.join(mutated_seq)\n",
    "\n",
    "\n",
    "\"\"\"\n",
    "@simulate_PAM : simulates p PAM unit for the given parameters\n",
    "@param: p: point accepted mutations or mutation steps, n: length of sequence\n",
    "\"\"\"\n",
    "def simulate_PAM_unit(p, n):\n",
    "    seq = get_sequence(n)\n",
    "    r = round(p * n / 100)\n",
    "    seq_mut = mutate_sequence(seq, r)\n",
    "    print(seq)\n",
    "    print(\"|\" * len(seq))\n",
    "    print(seq_mut)\n",
    "    print(\"evolutionary distance: \" + str(evolutionary_distance(seq, seq_mut)))\n",
    "\n",
    "\n",
    "\"\"\"\n",
    "@repeat_simulation : repeats the PAMsimulation for the given parameters\n",
    "@param: p: point accepted mutations or mutation steps, n: length of sequence, r: number of simulations, s: number of mutations per run\n",
    "\"\"\"\n",
    "def repeat_simulation(p, n, r, s):\n",
    "    average_fraction_table = [[] for i in range(r)]\n",
    "    for i in range(s):\n",
    "        prev_seq = get_sequence(n)\n",
    "        seq_mut = prev_seq\n",
    "        for j in range(r):\n",
    "            seq_mut = mutate_sequence(seq_mut, round(p * n / 100))\n",
    "            average_fraction_table[j].append(evolutionary_distance(prev_seq, seq_mut) / n)\n",
    "    return average_fraction_table\n",
    "\n",
    "\"\"\"\n",
    "@plot_simulation : plots the results of the simulation\n",
    "@param: average_fraction_table: list of lists of fractions, evolutionary_dist: list of evolutionary distances\n",
    "\"\"\"\n",
    "def plot_simulation(average_fraction_table):\n",
    "    r = 1 + np.arange(len(average_fraction_table))\n",
    "    diff = []\n",
    "    for i in range(len(average_fraction_table)):\n",
    "        diff.append(sum(average_fraction_table[i]) * 100 / len(average_fraction_table[i]))\n",
    "    plt.plot(r, diff, label = \"uniform distribution\")\n",
    "    plt.title(\" average fraction of difference positions\")\n",
    "    plt.xlabel(\"Number of simulations\")\n",
    "    plt.ylabel(\"Difference in percent\")\n",
    "    plt.legend()\n",
    "    plt.show()\n",
    "    return r, diff\n"
   ]
  },
  {
   "cell_type": "markdown",
   "id": "7f4e1459",
   "metadata": {},
   "source": [
    "Simulate $p$ PAM units of expected evolutionary change on a random amino-acid sequence of length\n",
    "$n$"
   ]
  },
  {
   "cell_type": "code",
   "execution_count": 18,
   "id": "56e7a38d",
   "metadata": {},
   "outputs": [
    {
     "name": "stdout",
     "output_type": "stream",
     "text": [
      "GGPDQLSAMRKEKKLTNPAG\n",
      "||||||||||||||||||||\n",
      "GGPDQSSAMRKEKGLTNPAG\n",
      "evolutionary distance: 2\n"
     ]
    }
   ],
   "source": [
    "simulate_PAM_unit(10, 20)"
   ]
  },
  {
   "cell_type": "markdown",
   "id": "ec3ad448",
   "metadata": {},
   "source": [
    "Repeat the generation of random sequences and PAM\n",
    "simulations $r$ times. Create a table with the average fraction of difference positions in the two\n",
    "sequences after $s$ mutation steps. \n",
    "\n",
    "Discuss and visualize your results:\n",
    "The difference in percent and number of simulations show a positive correlation. \n",
    "They also form a uniform distribution."
   ]
  },
  {
   "cell_type": "code",
   "execution_count": 20,
   "id": "86e9c549",
   "metadata": {},
   "outputs": [
    {
     "data": {
      "image/png": "[encoded data removed]",
      "text/plain": [
       "<Figure size 432x288 with 1 Axes>"
      ]
     },
     "metadata": {
      "needs_background": "light"
     },
     "output_type": "display_data"
    }
   ],
   "source": [
    "r, diff = plot_simulation(repeat_simulation(1, 300, 328, 200))"
   ]
  },
  {
   "cell_type": "markdown",
   "id": "47a7e5fe",
   "metadata": {},
   "source": [
    "Why is a uniform distribution not suitable in a biological context? \n",
    "Because the amino acid mutations in the protein do not follow a uniform distribution\n",
    "\n",
    "How could you find a more realistic mutation rate?\n",
    "PAM uses normalized frequencies of amino acids to derive Mutation Probability Matrix as realistic mutation rate e.g PAM / 10000\n",
    "\n",
    "How can you use a given PAM1 matrix in your simulations?\n",
    "PAM1 / 10000 ---> realistic mutation rate for unit"
   ]
  }
 ],
 "metadata": {
  "kernelspec": {
   "display_name": "Python 3 (ipykernel)",
   "language": "python",
   "name": "python3"
  },
  "language_info": {
   "codemirror_mode": {
    "name": "ipython",
    "version": 3
   },
   "file_extension": ".py",
   "mimetype": "text/x-python",
   "name": "python",
   "nbconvert_exporter": "python",
   "pygments_lexer": "ipython3",
   "version": "3.8.3"
  }
 },
 "nbformat": 4,
 "nbformat_minor": 5
}
